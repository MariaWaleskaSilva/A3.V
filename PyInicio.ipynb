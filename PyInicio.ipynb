{
  "nbformat": 4,
  "nbformat_minor": 0,
  "metadata": {
    "colab": {
      "provenance": [],
      "authorship_tag": "ABX9TyMb+pgWw5bF4Z966cX9eyNy",
      "include_colab_link": true
    },
    "kernelspec": {
      "name": "python3",
      "display_name": "Python 3"
    },
    "language_info": {
      "name": "python"
    }
  },
  "cells": [
    {
      "cell_type": "markdown",
      "metadata": {
        "id": "view-in-github",
        "colab_type": "text"
      },
      "source": [
        "<a href=\"https://colab.research.google.com/github/MariaWaleskaSilva/A3.V/blob/main/PyInicio.ipynb\" target=\"_parent\"><img src=\"https://colab.research.google.com/assets/colab-badge.svg\" alt=\"Open In Colab\"/></a>"
      ]
    },
    {
      "cell_type": "code",
      "execution_count": 8,
      "metadata": {
        "colab": {
          "base_uri": "https://localhost:8080/"
        },
        "id": "aUgaXXDwkbVm",
        "outputId": "2e6d8d84-b09a-4a32-a160-b8038fc4f6ef"
      },
      "outputs": [
        {
          "output_type": "stream",
          "name": "stdout",
          "text": [
            "Digite seu nome: Waleska\n",
            "Olá, Waleska!\n"
          ]
        }
      ],
      "source": [
        "\n",
        "nome = input(\"Digite seu nome: \")\n",
        "print(f\"Boas vindas, {nome}!\")\n",
        "\n",
        "\n"
      ]
    },
    {
      "cell_type": "code",
      "source": [
        "\n",
        "def calcular_imc(peso, altura):\n",
        "    imc = peso / (altura ** 2)\n",
        "    return imc\n",
        "\n",
        "\n",
        "peso = float(input(\"Digite seu peso: \"))\n",
        "altura = float(input(\"Digite sua altura: \"))\n",
        "\n",
        "imc = calcular_imc(peso, altura)\n",
        "\n",
        "print(f\"Seu IMC é: {imc:.2f}\")\n",
        "\n",
        "\n",
        "if imc < 18.5:\n",
        "    print(\"Você está abaixo do peso\")\n",
        "elif 18.5 <= imc < 24.9:\n",
        "    print(\"Você está com peso normal\")\n",
        "elif 25 <= imc < 29.9:\n",
        "    print(\"Você está com sobrepeso\")\n",
        "else:\n",
        "    print(\"Você está obeso\")\n"
      ],
      "metadata": {
        "colab": {
          "base_uri": "https://localhost:8080/"
        },
        "id": "VVJGSWpCqD5L",
        "outputId": "f0172dab-6ef5-4618-b68b-61836b4156fa"
      },
      "execution_count": 9,
      "outputs": [
        {
          "output_type": "stream",
          "name": "stdout",
          "text": [
            "Digite seu peso em kg: 72\n",
            "Digite sua altura em metros: 1.72\n",
            "Seu IMC é: 24.34\n",
            "Você está com peso normal.\n"
          ]
        }
      ]
    },
    {
      "cell_type": "code",
      "source": [
        "def eh_par(numero):\n",
        "    if numero % 2 == 0:\n",
        "        return True\n",
        "    else:\n",
        "        return False\n",
        "\n",
        "numero = int(input(\"Digite um número: \"))\n",
        "\n",
        "if eh_par(numero):\n",
        "    print(\"O número é par\")\n",
        "else:\n",
        "    print(\"O número é ímpar\")\n"
      ],
      "metadata": {
        "id": "zBXWhs-CslWl"
      },
      "execution_count": null,
      "outputs": []
    },
    {
      "cell_type": "code",
      "source": [
        "lista = [1, 2, 3, 4]\n",
        "soma_elementos sum(lista)\n",
        "print soma_elementos\n",
        "  # testes\n",
        "\n"
      ],
      "metadata": {
        "colab": {
          "base_uri": "https://localhost:8080/",
          "height": 106
        },
        "id": "7N51LWo4vfIf",
        "outputId": "44f8d3a0-1139-4a6f-ffd1-cff6a80d7220"
      },
      "execution_count": 14,
      "outputs": [
        {
          "output_type": "error",
          "ename": "SyntaxError",
          "evalue": "invalid syntax (<ipython-input-14-1db03dd9c305>, line 2)",
          "traceback": [
            "\u001b[0;36m  File \u001b[0;32m\"<ipython-input-14-1db03dd9c305>\"\u001b[0;36m, line \u001b[0;32m2\u001b[0m\n\u001b[0;31m    soma_elementos sum(lista)\u001b[0m\n\u001b[0m                   ^\u001b[0m\n\u001b[0;31mSyntaxError\u001b[0m\u001b[0;31m:\u001b[0m invalid syntax\n"
          ]
        }
      ]
    },
    {
      "cell_type": "code",
      "source": [
        "def soma_pares(lista):\n",
        "\n",
        "if (lista) % 2 == 0\n",
        "\n",
        "  #testes\n",
        "  print(soma_pares([1, 2, 3, 4, 5])) #6\n",
        "  print(soma_pares([10, 11, 12])) 22\n"
      ],
      "metadata": {
        "id": "sRJd0dsLxgZj"
      },
      "execution_count": null,
      "outputs": []
    },
    {
      "cell_type": "code",
      "source": [
        "def qtd_vogais()\n",
        ""
      ],
      "metadata": {
        "id": "gsG4kWiyzqr2"
      },
      "execution_count": 18,
      "outputs": []
    },
    {
      "cell_type": "code",
      "source": [
        "def qtd_vogais(palavra):\n",
        "    vogais = \"aeiouAEIOU\"\n",
        "    qtd = 0\n",
        "    for letra in palavra:\n",
        "        if letra in vogais:\n",
        "            qtd += 1\n",
        "    return qtd\n",
        "\n",
        "palavra = input(\"Digite uma palavra: \")\n",
        "qtd_vogais = qtd_vogais(palavra)\n",
        "print(f\"A palavra '{palavra}' contém {qtd_vogais} vogais.\")\n",
        ""
      ],
      "metadata": {
        "id": "HP1Yt8z-1kAh"
      },
      "execution_count": null,
      "outputs": []
    }
  ]
}